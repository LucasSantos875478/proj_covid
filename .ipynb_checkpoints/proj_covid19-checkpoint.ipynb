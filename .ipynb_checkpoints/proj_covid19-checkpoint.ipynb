{
 "cells": [
  {
   "cell_type": "code",
   "execution_count": null,
   "id": "efb0e40d",
   "metadata": {},
   "outputs": [],
   "source": [
    "import pandas as pd"
   ]
  },
  {
   "cell_type": "code",
   "execution_count": null,
   "id": "910d7d5b",
   "metadata": {},
   "outputs": [],
   "source": [
    "#importando a base de dados\n",
    "covid_df = pd.read_csv('Covid Data.csv')\n",
    "display(covid_df)"
   ]
  },
  {
   "cell_type": "code",
   "execution_count": null,
   "id": "628bfe3e",
   "metadata": {},
   "outputs": [],
   "source": [
    "# cria um csv com os primeiros 1000 dados\n",
    "#covid_df.head(1000).to_csv('covid1000.csv')"
   ]
  },
  {
   "cell_type": "markdown",
   "id": "d01f18a6",
   "metadata": {},
   "source": [
    "#### Nesta base de dados temos o seguinte padrão, 1 significa 'sim', 2 significa 'não' e 97 ou 99 são dados ausentes, tendo isso em mente vou varrer todos os dados e ver como estão distribuidos os meus valores na tabela"
   ]
  },
  {
   "cell_type": "code",
   "execution_count": null,
   "id": "ab205f24",
   "metadata": {},
   "outputs": [],
   "source": [
    "colunas = covid_df.columns\n",
    "\n",
    "for coluna in colunas:\n",
    "    print(covid_df[coluna].value_counts())\n",
    "    print('-'*50)"
   ]
  },
  {
   "cell_type": "markdown",
   "id": "2e360f97",
   "metadata": {},
   "source": [
    "#### As colunas INTUBED, PREGNANT e ICU possuem muitos valores faltando (97), por isso preencher esses valores com algum padrão pode prejudicar nosso modelo, então decidi excluir as colunas"
   ]
  },
  {
   "cell_type": "code",
   "execution_count": null,
   "id": "81971567",
   "metadata": {},
   "outputs": [],
   "source": [
    "colunas_excl = ['INTUBED', 'PREGNANT', 'ICU']\n",
    "\n",
    "for coluna in colunas_excl:\n",
    "    covid_df = covid_df.drop(coluna, axis=1)\n",
    "print(covid_df.shape)"
   ]
  },
  {
   "cell_type": "markdown",
   "id": "52518726",
   "metadata": {},
   "source": [
    "#### Para as outras colunas que possuem poucos valores faltando irei apenas excluir a linha, pois nossa base de dados é bem grande então esses poucos dados não farão falta"
   ]
  },
  {
   "cell_type": "code",
   "execution_count": null,
   "id": "387ce93e",
   "metadata": {},
   "outputs": [],
   "source": [
    "colunas_linhas = ['PNEUMONIA', 'DIABETES', 'COPD', 'ASTHMA', 'INMSUPR', 'HIPERTENSION', 'OTHER_DISEASE', 'OBESITY', 'RENAL_CHRONIC', 'TOBACCO']\n",
    "\n",
    "covid_df.drop(covid_df['PNEUMONIA']==99, axis=0)"
   ]
  },
  {
   "cell_type": "markdown",
   "id": "9de12a3b",
   "metadata": {},
   "source": [
    "#### Depois de excluir as colunas que não serão úteis para o nosso modelo vamos analisar os valores vazios/nulos"
   ]
  },
  {
   "cell_type": "code",
   "execution_count": null,
   "id": "f35476e6",
   "metadata": {},
   "outputs": [],
   "source": [
    "print(covid_df.isnull().sum())"
   ]
  },
  {
   "cell_type": "markdown",
   "id": "d12629bd",
   "metadata": {},
   "source": [
    "#### Agora vou analisar os tipos de dados do DataFrame"
   ]
  },
  {
   "cell_type": "code",
   "execution_count": null,
   "id": "be6136cd",
   "metadata": {},
   "outputs": [],
   "source": [
    "print(covid_df.dtypes)"
   ]
  }
 ],
 "metadata": {
  "kernelspec": {
   "display_name": "Python 3 (ipykernel)",
   "language": "python",
   "name": "python3"
  },
  "language_info": {
   "codemirror_mode": {
    "name": "ipython",
    "version": 3
   },
   "file_extension": ".py",
   "mimetype": "text/x-python",
   "name": "python",
   "nbconvert_exporter": "python",
   "pygments_lexer": "ipython3",
   "version": "3.11.5"
  }
 },
 "nbformat": 4,
 "nbformat_minor": 5
}
